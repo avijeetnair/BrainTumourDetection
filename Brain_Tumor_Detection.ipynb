{
  "cells": [
    {
      "cell_type": "markdown",
      "metadata": {
        "id": "view-in-github",
        "colab_type": "text"
      },
      "source": [
        "<a href=\"https://colab.research.google.com/github/avijeetnair/BrainTumourDetection/blob/main/Brain_Tumor_Detection.ipynb\" target=\"_parent\"><img src=\"https://colab.research.google.com/assets/colab-badge.svg\" alt=\"Open In Colab\"/></a>"
      ]
    },
    {
      "cell_type": "code",
      "execution_count": null,
      "metadata": {
        "id": "fR3vraRW8NDv"
      },
      "outputs": [],
      "source": [
        "import warnings\n",
        "warnings.filterwarnings('ignore')"
      ]
    },
    {
      "cell_type": "code",
      "execution_count": null,
      "metadata": {
        "id": "_dyeJ6hM-1Aw",
        "colab": {
          "base_uri": "https://localhost:8080/"
        },
        "outputId": "edad3034-4331-43b0-a32b-b0f474ecfa83"
      },
      "outputs": [
        {
          "output_type": "stream",
          "name": "stdout",
          "text": [
            "--2022-02-21 16:23:12--  https://www.dropbox.com/s/9czdg41ndl0lw07/BrainTumorData.zip?dl=0\n",
            "Resolving www.dropbox.com (www.dropbox.com)... 162.125.3.18, 2620:100:6018:18::a27d:312\n",
            "Connecting to www.dropbox.com (www.dropbox.com)|162.125.3.18|:443... connected.\n",
            "HTTP request sent, awaiting response... 301 Moved Permanently\n",
            "Location: /s/raw/9czdg41ndl0lw07/BrainTumorData.zip [following]\n",
            "--2022-02-21 16:23:12--  https://www.dropbox.com/s/raw/9czdg41ndl0lw07/BrainTumorData.zip\n",
            "Reusing existing connection to www.dropbox.com:443.\n",
            "HTTP request sent, awaiting response... 302 Found\n",
            "Location: https://uc472138f21e0a0623c30cc4b403.dl.dropboxusercontent.com/cd/0/inline/BgIDPv76YtQpqJ6fdAyEE9OPKJy4chYpx9jzgUQmAaMI-0YiehvaWqQbe98EjnB6V5jqsxLDWvil3QRWa2BIfFOnz5_ehc6RB4dtz_T_LjGC2YGb5aC1fg81zt6d0cAtL3oMkqnCu6i5spzC1-o3F1Jk/file# [following]\n",
            "--2022-02-21 16:23:12--  https://uc472138f21e0a0623c30cc4b403.dl.dropboxusercontent.com/cd/0/inline/BgIDPv76YtQpqJ6fdAyEE9OPKJy4chYpx9jzgUQmAaMI-0YiehvaWqQbe98EjnB6V5jqsxLDWvil3QRWa2BIfFOnz5_ehc6RB4dtz_T_LjGC2YGb5aC1fg81zt6d0cAtL3oMkqnCu6i5spzC1-o3F1Jk/file\n",
            "Resolving uc472138f21e0a0623c30cc4b403.dl.dropboxusercontent.com (uc472138f21e0a0623c30cc4b403.dl.dropboxusercontent.com)... 162.125.3.15, 2620:100:601b:15::a27d:80f\n",
            "Connecting to uc472138f21e0a0623c30cc4b403.dl.dropboxusercontent.com (uc472138f21e0a0623c30cc4b403.dl.dropboxusercontent.com)|162.125.3.15|:443... connected.\n",
            "HTTP request sent, awaiting response... 302 Found\n",
            "Location: /cd/0/inline2/BgKXQ_HZu3t0obh8XWCsPEVWUUkM1wyDM1xzcbX_yEWskYMX-DjSLwytVlkxk8YNJ5lGFo39HlFMurguXI6lNWdPDaaPoEumY2M1OX0nK8YgoguRcAyk725WbQ-_IljqbSrGppUv7ZiJTBWN9urMXYPgFdOjChIhN8tiG7KiRF3Eq5QMUI3MJBaG_OxsPored3W9FEPO1_IOM8SfdtDn6qoF79qQ_4fuyZDpht4O8-ZDAcF9Ql0Qaq4gQqsa49dVA3tVFIpyKr2MIS-2_QI7oaGeOK2XP31eObybB9n-nEIfjC1AYZ4LFpaIRMNl4Bxz97nYh9Z9XX7FaCuln00mTfitJB6zOF2-veKPrlsfO-1j8Njtmdsn-Yh-pC8gyMnCz_g/file [following]\n",
            "--2022-02-21 16:23:13--  https://uc472138f21e0a0623c30cc4b403.dl.dropboxusercontent.com/cd/0/inline2/BgKXQ_HZu3t0obh8XWCsPEVWUUkM1wyDM1xzcbX_yEWskYMX-DjSLwytVlkxk8YNJ5lGFo39HlFMurguXI6lNWdPDaaPoEumY2M1OX0nK8YgoguRcAyk725WbQ-_IljqbSrGppUv7ZiJTBWN9urMXYPgFdOjChIhN8tiG7KiRF3Eq5QMUI3MJBaG_OxsPored3W9FEPO1_IOM8SfdtDn6qoF79qQ_4fuyZDpht4O8-ZDAcF9Ql0Qaq4gQqsa49dVA3tVFIpyKr2MIS-2_QI7oaGeOK2XP31eObybB9n-nEIfjC1AYZ4LFpaIRMNl4Bxz97nYh9Z9XX7FaCuln00mTfitJB6zOF2-veKPrlsfO-1j8Njtmdsn-Yh-pC8gyMnCz_g/file\n",
            "Reusing existing connection to uc472138f21e0a0623c30cc4b403.dl.dropboxusercontent.com:443.\n",
            "HTTP request sent, awaiting response... 200 OK\n",
            "Length: unspecified [application/zip]\n",
            "Saving to: ‘BrainTumorData.zip?dl=0’\n",
            "\n",
            "BrainTumorData.zip?     [            <=>     ] 106.98M  44.9MB/s    in 2.4s    \n",
            "\n",
            "2022-02-21 16:23:16 (44.9 MB/s) - ‘BrainTumorData.zip?dl=0’ saved [112172920]\n",
            "\n"
          ]
        }
      ],
      "source": [
        "# get the data from\n",
        "!wget https://www.dropbox.com/s/9czdg41ndl0lw07/BrainTumorData.zip?dl=0"
      ]
    },
    {
      "cell_type": "code",
      "execution_count": null,
      "metadata": {
        "id": "g09GCd67_YcT"
      },
      "outputs": [],
      "source": [
        "!unzip /content/BrainTumorData.zip?dl=0"
      ]
    },
    {
      "cell_type": "code",
      "execution_count": null,
      "metadata": {
        "id": "ZiNG0R7T_xhi"
      },
      "outputs": [],
      "source": [
        "import numpy as np\n",
        "import matplotlib.pyplot as plt\n",
        "import os\n",
        "import math\n",
        "import shutil\n",
        "import glob"
      ]
    },
    {
      "cell_type": "code",
      "execution_count": null,
      "metadata": {
        "id": "H0pw6g5_5uwb",
        "colab": {
          "base_uri": "https://localhost:8080/"
        },
        "outputId": "dd9db142-a625-4cf2-8107-53cfdba2573e"
      },
      "outputs": [
        {
          "output_type": "stream",
          "name": "stdout",
          "text": [
            "Mounted at /content/drive\n"
          ]
        }
      ],
      "source": [
        "from google.colab import drive\n",
        "drive.mount('/content/drive')"
      ]
    },
    {
      "cell_type": "code",
      "execution_count": null,
      "metadata": {
        "id": "tokKck2jA4rc",
        "colab": {
          "base_uri": "https://localhost:8080/"
        },
        "outputId": "d4c3b6eb-ad7e-47cd-f9dc-cd966415de49"
      },
      "outputs": [
        {
          "output_type": "execute_result",
          "data": {
            "text/plain": [
              "dict_items([('Brain Tumor', 2513), ('Healthey', 2087)])"
            ]
          },
          "metadata": {},
          "execution_count": 6
        }
      ],
      "source": [
        "ROOT_DIR= \"/content/BrainTumorData/Brain Tumor Data Set\"\n",
        "number_of_images = {}\n",
        "\n",
        "for dir in os.listdir(ROOT_DIR):\n",
        "  number_of_images[dir]=len(os.listdir(os.path.join(ROOT_DIR, dir)))\n",
        "number_of_images.items()"
      ]
    },
    {
      "cell_type": "code",
      "execution_count": null,
      "metadata": {
        "id": "LuICmVmQJVD0"
      },
      "outputs": [],
      "source": [
        "# Creating Training Folder\n"
      ]
    },
    {
      "cell_type": "code",
      "execution_count": null,
      "metadata": {
        "id": "_gRiXZowM4XI"
      },
      "outputs": [],
      "source": [
        "def dataFolder(p, split):\n",
        "\n",
        "  if not os.path.exists(\"./\"+p):\n",
        "    os.mkdir(\"./\"+p)\n",
        "\n",
        "    for dir in os.listdir(ROOT_DIR):\n",
        "      os.makedirs(\"./\"+p+\"/\"+dir)\n",
        "      for img in np.random.choice(a=os.listdir(os.path.join(ROOT_DIR, dir)),\n",
        "                                  size=(math.floor(split*number_of_images[dir])-5),\n",
        "                                  replace=False ):\n",
        "        O = os.path.join(ROOT_DIR,dir,img)\n",
        "        D = os.path.join(\"./\"+p,dir)\n",
        "        shutil.copy(O,D)\n",
        "        os.remove(O)\n",
        "  else:\n",
        "    print( f\"{p}Folder exists\")"
      ]
    },
    {
      "cell_type": "code",
      "execution_count": null,
      "metadata": {
        "id": "0qqLYjuGNUyQ"
      },
      "outputs": [],
      "source": [
        "dataFolder(\"train\", 0.7)"
      ]
    },
    {
      "cell_type": "code",
      "execution_count": null,
      "metadata": {
        "id": "vlbDPCmDObsP"
      },
      "outputs": [],
      "source": [
        "  dataFolder(\"val\", 0.15)"
      ]
    },
    {
      "cell_type": "code",
      "execution_count": null,
      "metadata": {
        "id": "jLGhKTZVOpmD"
      },
      "outputs": [],
      "source": [
        "dataFolder(\"test\", 0.15)"
      ]
    },
    {
      "cell_type": "code",
      "execution_count": null,
      "metadata": {
        "id": "0stVDqyaPBSO",
        "colab": {
          "base_uri": "https://localhost:8080/"
        },
        "outputId": "d802747d-08f6-4157-883a-bfa0aca30483"
      },
      "outputs": [
        {
          "output_type": "execute_result",
          "data": {
            "text/plain": [
              "dict_items([('Brain Tumor', 17), ('Healthey', 16)])"
            ]
          },
          "metadata": {},
          "execution_count": 12
        }
      ],
      "source": [
        "number_of_images = {}\n",
        "\n",
        "for dir in os.listdir(ROOT_DIR):\n",
        "  number_of_images[dir]=len(os.listdir(os.path.join(ROOT_DIR, dir)))\n",
        "number_of_images.items()"
      ]
    },
    {
      "cell_type": "code",
      "execution_count": null,
      "metadata": {
        "id": "bVQGCWzSRJIt"
      },
      "outputs": [],
      "source": [
        ""
      ]
    },
    {
      "cell_type": "markdown",
      "metadata": {
        "id": "xohex_BmRLjb"
      },
      "source": [
        "Model Build\n"
      ]
    },
    {
      "cell_type": "code",
      "execution_count": null,
      "metadata": {
        "id": "tnsONjFrRPAC"
      },
      "outputs": [],
      "source": [
        "from keras.layers import Conv2D, MaxPool2D, Dropout, Flatten, Dense, BatchNormalization, GlobalAvgPool2D\n",
        "from keras.models import Sequential\n",
        "from keras.preprocessing.image import ImageDataGenerator\n",
        "import keras"
      ]
    },
    {
      "cell_type": "code",
      "execution_count": null,
      "metadata": {
        "id": "x9D0oqnSSA8_",
        "colab": {
          "base_uri": "https://localhost:8080/"
        },
        "outputId": "9927b8ac-2084-4263-95dc-44649d1159e9"
      },
      "outputs": [
        {
          "output_type": "stream",
          "name": "stdout",
          "text": [
            "Model: \"sequential\"\n",
            "_________________________________________________________________\n",
            " Layer (type)                Output Shape              Param #   \n",
            "=================================================================\n",
            " conv2d (Conv2D)             (None, 222, 222, 16)      448       \n",
            "                                                                 \n",
            " conv2d_1 (Conv2D)           (None, 220, 220, 32)      4640      \n",
            "                                                                 \n",
            " max_pooling2d (MaxPooling2D  (None, 110, 110, 32)     0         \n",
            " )                                                               \n",
            "                                                                 \n",
            " conv2d_2 (Conv2D)           (None, 108, 108, 64)      18496     \n",
            "                                                                 \n",
            " max_pooling2d_1 (MaxPooling  (None, 54, 54, 64)       0         \n",
            " 2D)                                                             \n",
            "                                                                 \n",
            " conv2d_3 (Conv2D)           (None, 52, 52, 128)       73856     \n",
            "                                                                 \n",
            " max_pooling2d_2 (MaxPooling  (None, 26, 26, 128)      0         \n",
            " 2D)                                                             \n",
            "                                                                 \n",
            " conv2d_4 (Conv2D)           (None, 24, 24, 128)       147584    \n",
            "                                                                 \n",
            " max_pooling2d_3 (MaxPooling  (None, 12, 12, 128)      0         \n",
            " 2D)                                                             \n",
            "                                                                 \n",
            " conv2d_5 (Conv2D)           (None, 10, 10, 256)       295168    \n",
            "                                                                 \n",
            " max_pooling2d_4 (MaxPooling  (None, 5, 5, 256)        0         \n",
            " 2D)                                                             \n",
            "                                                                 \n",
            " conv2d_6 (Conv2D)           (None, 3, 3, 256)         590080    \n",
            "                                                                 \n",
            " max_pooling2d_5 (MaxPooling  (None, 1, 1, 256)        0         \n",
            " 2D)                                                             \n",
            "                                                                 \n",
            " dropout (Dropout)           (None, 1, 1, 256)         0         \n",
            "                                                                 \n",
            " flatten (Flatten)           (None, 256)               0         \n",
            "                                                                 \n",
            " dense (Dense)               (None, 64)                16448     \n",
            "                                                                 \n",
            " dropout_1 (Dropout)         (None, 64)                0         \n",
            "                                                                 \n",
            " dense_1 (Dense)             (None, 1)                 65        \n",
            "                                                                 \n",
            "=================================================================\n",
            "Total params: 1,146,785\n",
            "Trainable params: 1,146,785\n",
            "Non-trainable params: 0\n",
            "_________________________________________________________________\n"
          ]
        }
      ],
      "source": [
        "#CNN Model\n",
        "\n",
        "model = Sequential()\n",
        "\n",
        "model.add(Conv2D(filters= 16, kernel_size= (3,3), activation= 'relu', input_shape = (224,224,3)))\n",
        "\n",
        "\n",
        "model.add(Conv2D(filters= 32, kernel_size= (3,3), activation= 'relu'))\n",
        "model.add(MaxPool2D(pool_size=(2,2)))\n",
        "\n",
        "model.add(Conv2D(filters= 64, kernel_size= (3,3), activation= 'relu'))\n",
        "model.add(MaxPool2D(pool_size=(2,2)))\n",
        "                \n",
        "model.add(Conv2D(filters= 128, kernel_size= (3,3), activation= 'relu'))\n",
        "model.add(MaxPool2D(pool_size=(2,2)))\n",
        "\n",
        "model.add(Conv2D(filters= 128, kernel_size= (3,3), activation= 'relu'))\n",
        "model.add(MaxPool2D(pool_size=(2,2)))\n",
        "\n",
        "model.add(Conv2D(filters= 256, kernel_size= (3,3), activation= 'relu'))\n",
        "model.add(MaxPool2D(pool_size=(2,2)))\n",
        "\n",
        "model.add(Conv2D(filters= 256, kernel_size= (3,3), activation= 'relu'))\n",
        "model.add(MaxPool2D(pool_size=(2,2)))\n",
        "\n",
        "\n",
        "\n",
        "model.add(Dropout(rate=0.25))\n",
        "\n",
        "model.add(Flatten())\n",
        "model.add(Dense(units=64, activation=\"relu\"))\n",
        "model.add(Dropout(rate=0.25))\n",
        "model.add(Dense(units=1, activation=\"sigmoid\"))\n",
        "\n",
        "model.summary()\n",
        "                                  \n"
      ]
    },
    {
      "cell_type": "code",
      "execution_count": null,
      "metadata": {
        "id": "Ea3f8-oiijm6"
      },
      "outputs": [],
      "source": [
        "model.compile(optimizer='adam', loss= keras.losses.binary_crossentropy, metrics=['accuracy'] )"
      ]
    },
    {
      "cell_type": "code",
      "execution_count": null,
      "metadata": {
        "id": "i6LKigMNjlwJ"
      },
      "outputs": [],
      "source": [
        ""
      ]
    },
    {
      "cell_type": "markdown",
      "metadata": {
        "id": "u9QF-b_Vj878"
      },
      "source": [
        "Preparing data using data generator"
      ]
    },
    {
      "cell_type": "code",
      "execution_count": null,
      "metadata": {
        "id": "1jFv7elkkDg6"
      },
      "outputs": [],
      "source": [
        "def preprocessingImages(path):\n",
        "\n",
        "  \"\"\"\n",
        "  input:Path\n",
        "  output: Pre processed images\n",
        "\n",
        "  \"\"\"\n",
        "  \n",
        "  image_data = ImageDataGenerator(zoom_range= 0.2, shear_range= 0.2, rescale= 1/255, horizontal_flip= True)\n",
        "  image = image_data.flow_from_directory(directory = path, target_size = (224,224), batch_size = 32, class_mode = 'binary')\n",
        "  \n",
        "  return image"
      ]
    },
    {
      "cell_type": "code",
      "execution_count": null,
      "metadata": {
        "id": "6hXXnj8-li-y",
        "colab": {
          "base_uri": "https://localhost:8080/"
        },
        "outputId": "5649101f-c1d0-4d3a-b3f4-cfac3533f99a"
      },
      "outputs": [
        {
          "output_type": "stream",
          "name": "stdout",
          "text": [
            "Found 3209 images belonging to 2 classes.\n"
          ]
        }
      ],
      "source": [
        "path = \"/content/train\"\n",
        "train_data = preprocessingImages(path)"
      ]
    },
    {
      "cell_type": "code",
      "execution_count": null,
      "metadata": {
        "id": "zzFBgkKtpM1H"
      },
      "outputs": [],
      "source": [
        ""
      ]
    },
    {
      "cell_type": "code",
      "execution_count": null,
      "metadata": {
        "id": "LGz1NXH-oVfG"
      },
      "outputs": [],
      "source": [
        "def preprocessingImages2(path):\n",
        "\n",
        "  \"\"\"\n",
        "  input:Path\n",
        "  output: Pre processed images\n",
        "\n",
        "  \"\"\"\n",
        "  \n",
        "  image_data = ImageDataGenerator(rescale= 1/255)\n",
        "  image = image_data.flow_from_directory(directory = path, target_size = (224,224), batch_size = 32, class_mode = 'binary')\n",
        "  \n",
        "  return image"
      ]
    },
    {
      "cell_type": "code",
      "execution_count": null,
      "metadata": {
        "id": "tPluJ0-RpOhj",
        "colab": {
          "base_uri": "https://localhost:8080/"
        },
        "outputId": "1695ba84-b0ea-4b46-ade0-c4cc20c26a9c"
      },
      "outputs": [
        {
          "output_type": "stream",
          "name": "stdout",
          "text": [
            "Found 679 images belonging to 2 classes.\n"
          ]
        }
      ],
      "source": [
        "path = \"/content/test\"\n",
        "test_data = preprocessingImages2(path)"
      ]
    },
    {
      "cell_type": "code",
      "execution_count": null,
      "metadata": {
        "id": "GexaMkvBpV4r",
        "colab": {
          "base_uri": "https://localhost:8080/"
        },
        "outputId": "9db6c467-1343-4545-949b-240b391d634b"
      },
      "outputs": [
        {
          "output_type": "stream",
          "name": "stdout",
          "text": [
            "Found 679 images belonging to 2 classes.\n"
          ]
        }
      ],
      "source": [
        "path = \"/content/val\"\n",
        "val_data = preprocessingImages2(path)"
      ]
    },
    {
      "cell_type": "code",
      "execution_count": null,
      "metadata": {
        "id": "Xd_7D2OkpcwW"
      },
      "outputs": [],
      "source": [
        "# Early stopping and model check point\n",
        "from keras.callbacks import ModelCheckpoint, EarlyStopping\n",
        "\n",
        "#early stopping\n",
        "\n",
        "es=EarlyStopping(monitor=\"val_accuracy\", min_delta=0.01, patience=7, verbose=1, mode='auto')\n",
        "\n",
        "#model check point\n",
        "mc=ModelCheckpoint(monitor=\"val_accuracy\", filepath=\"./bestmodel.h5\", verbose=1, save_best_only=True, mode='auto')\n",
        "\n",
        "cd=[es,mc]"
      ]
    },
    {
      "cell_type": "markdown",
      "metadata": {
        "id": "dz9LQe-xwchY"
      },
      "source": [
        "Model Training\n"
      ]
    },
    {
      "cell_type": "code",
      "execution_count": null,
      "metadata": {
        "colab": {
          "base_uri": "https://localhost:8080/"
        },
        "id": "1xrDmQgawedV",
        "outputId": "a394a198-f646-42a9-803e-832ddffcd001"
      },
      "outputs": [
        {
          "output_type": "stream",
          "name": "stdout",
          "text": [
            "Epoch 1/60\n",
            "16/16 [==============================] - ETA: 0s - loss: 0.6964 - accuracy: 0.5337\n",
            "Epoch 1: val_accuracy improved from -inf to 0.54688, saving model to ./bestmodel.h5\n",
            "16/16 [==============================] - 23s 634ms/step - loss: 0.6964 - accuracy: 0.5337 - val_loss: 0.6903 - val_accuracy: 0.5469\n",
            "Epoch 2/60\n",
            "16/16 [==============================] - ETA: 0s - loss: 0.6892 - accuracy: 0.5449\n",
            "Epoch 2: val_accuracy improved from 0.54688 to 0.57031, saving model to ./bestmodel.h5\n",
            "16/16 [==============================] - 10s 632ms/step - loss: 0.6892 - accuracy: 0.5449 - val_loss: 0.6844 - val_accuracy: 0.5703\n",
            "Epoch 3/60\n",
            "16/16 [==============================] - ETA: 0s - loss: 0.6857 - accuracy: 0.5566\n",
            "Epoch 3: val_accuracy did not improve from 0.57031\n",
            "16/16 [==============================] - 10s 621ms/step - loss: 0.6857 - accuracy: 0.5566 - val_loss: 0.6907 - val_accuracy: 0.5430\n",
            "Epoch 4/60\n",
            "16/16 [==============================] - ETA: 0s - loss: 0.6916 - accuracy: 0.5235\n",
            "Epoch 4: val_accuracy did not improve from 0.57031\n",
            "16/16 [==============================] - 9s 597ms/step - loss: 0.6916 - accuracy: 0.5235 - val_loss: 0.6879 - val_accuracy: 0.5645\n",
            "Epoch 5/60\n",
            "16/16 [==============================] - ETA: 0s - loss: 0.6904 - accuracy: 0.5371\n",
            "Epoch 5: val_accuracy did not improve from 0.57031\n",
            "16/16 [==============================] - 10s 616ms/step - loss: 0.6904 - accuracy: 0.5371 - val_loss: 0.6863 - val_accuracy: 0.5352\n",
            "Epoch 6/60\n",
            "16/16 [==============================] - ETA: 0s - loss: 0.6810 - accuracy: 0.5762\n",
            "Epoch 6: val_accuracy did not improve from 0.57031\n",
            "16/16 [==============================] - 10s 624ms/step - loss: 0.6810 - accuracy: 0.5762 - val_loss: 0.6886 - val_accuracy: 0.5312\n",
            "Epoch 7/60\n",
            "16/16 [==============================] - ETA: 0s - loss: 0.6853 - accuracy: 0.5371\n",
            "Epoch 7: val_accuracy improved from 0.57031 to 0.58789, saving model to ./bestmodel.h5\n",
            "16/16 [==============================] - 10s 619ms/step - loss: 0.6853 - accuracy: 0.5371 - val_loss: 0.6668 - val_accuracy: 0.5879\n",
            "Epoch 8/60\n",
            "16/16 [==============================] - ETA: 0s - loss: 0.6527 - accuracy: 0.6172\n",
            "Epoch 8: val_accuracy improved from 0.58789 to 0.70312, saving model to ./bestmodel.h5\n",
            "16/16 [==============================] - 10s 618ms/step - loss: 0.6527 - accuracy: 0.6172 - val_loss: 0.5736 - val_accuracy: 0.7031\n",
            "Epoch 9/60\n",
            "16/16 [==============================] - ETA: 0s - loss: 0.6291 - accuracy: 0.6562\n",
            "Epoch 9: val_accuracy improved from 0.70312 to 0.71289, saving model to ./bestmodel.h5\n",
            "16/16 [==============================] - 10s 615ms/step - loss: 0.6291 - accuracy: 0.6562 - val_loss: 0.5899 - val_accuracy: 0.7129\n",
            "Epoch 10/60\n",
            "16/16 [==============================] - ETA: 0s - loss: 0.6326 - accuracy: 0.6426\n",
            "Epoch 10: val_accuracy did not improve from 0.71289\n",
            "16/16 [==============================] - 10s 609ms/step - loss: 0.6326 - accuracy: 0.6426 - val_loss: 0.5751 - val_accuracy: 0.6602\n",
            "Epoch 11/60\n",
            "16/16 [==============================] - ETA: 0s - loss: 0.6240 - accuracy: 0.6426\n",
            "Epoch 11: val_accuracy improved from 0.71289 to 0.74805, saving model to ./bestmodel.h5\n",
            "16/16 [==============================] - 10s 619ms/step - loss: 0.6240 - accuracy: 0.6426 - val_loss: 0.5239 - val_accuracy: 0.7480\n",
            "Epoch 12/60\n",
            "16/16 [==============================] - ETA: 0s - loss: 0.6088 - accuracy: 0.6582\n",
            "Epoch 12: val_accuracy did not improve from 0.74805\n",
            "16/16 [==============================] - 10s 617ms/step - loss: 0.6088 - accuracy: 0.6582 - val_loss: 0.5956 - val_accuracy: 0.6309\n",
            "Epoch 13/60\n",
            "16/16 [==============================] - ETA: 0s - loss: 0.5816 - accuracy: 0.6855\n",
            "Epoch 13: val_accuracy did not improve from 0.74805\n",
            "16/16 [==============================] - 10s 631ms/step - loss: 0.5816 - accuracy: 0.6855 - val_loss: 0.5319 - val_accuracy: 0.6992\n",
            "Epoch 14/60\n",
            "16/16 [==============================] - ETA: 0s - loss: 0.5860 - accuracy: 0.7090\n",
            "Epoch 14: val_accuracy improved from 0.74805 to 0.76758, saving model to ./bestmodel.h5\n",
            "16/16 [==============================] - 10s 625ms/step - loss: 0.5860 - accuracy: 0.7090 - val_loss: 0.5111 - val_accuracy: 0.7676\n",
            "Epoch 15/60\n",
            "16/16 [==============================] - ETA: 0s - loss: 0.5688 - accuracy: 0.7031\n",
            "Epoch 15: val_accuracy improved from 0.76758 to 0.80273, saving model to ./bestmodel.h5\n",
            "16/16 [==============================] - 10s 614ms/step - loss: 0.5688 - accuracy: 0.7031 - val_loss: 0.4662 - val_accuracy: 0.8027\n",
            "Epoch 16/60\n",
            "16/16 [==============================] - ETA: 0s - loss: 0.5489 - accuracy: 0.7383\n",
            "Epoch 16: val_accuracy improved from 0.80273 to 0.84375, saving model to ./bestmodel.h5\n",
            "16/16 [==============================] - 10s 631ms/step - loss: 0.5489 - accuracy: 0.7383 - val_loss: 0.4176 - val_accuracy: 0.8438\n",
            "Epoch 17/60\n",
            "16/16 [==============================] - ETA: 0s - loss: 0.4909 - accuracy: 0.7546\n",
            "Epoch 17: val_accuracy did not improve from 0.84375\n",
            "16/16 [==============================] - 10s 603ms/step - loss: 0.4909 - accuracy: 0.7546 - val_loss: 0.4725 - val_accuracy: 0.7598\n",
            "Epoch 18/60\n",
            "16/16 [==============================] - ETA: 0s - loss: 0.5239 - accuracy: 0.7461\n",
            "Epoch 18: val_accuracy did not improve from 0.84375\n",
            "16/16 [==============================] - 10s 624ms/step - loss: 0.5239 - accuracy: 0.7461 - val_loss: 0.4484 - val_accuracy: 0.8242\n",
            "Epoch 19/60\n",
            "16/16 [==============================] - ETA: 0s - loss: 0.4549 - accuracy: 0.7910\n",
            "Epoch 19: val_accuracy did not improve from 0.84375\n",
            "16/16 [==============================] - 10s 620ms/step - loss: 0.4549 - accuracy: 0.7910 - val_loss: 0.3829 - val_accuracy: 0.8281\n",
            "Epoch 20/60\n",
            "16/16 [==============================] - ETA: 0s - loss: 0.5044 - accuracy: 0.7480\n",
            "Epoch 20: val_accuracy did not improve from 0.84375\n",
            "16/16 [==============================] - 10s 619ms/step - loss: 0.5044 - accuracy: 0.7480 - val_loss: 0.4601 - val_accuracy: 0.7559\n",
            "Epoch 21/60\n",
            "16/16 [==============================] - ETA: 0s - loss: 0.5259 - accuracy: 0.7598\n",
            "Epoch 21: val_accuracy improved from 0.84375 to 0.85156, saving model to ./bestmodel.h5\n",
            "16/16 [==============================] - 10s 629ms/step - loss: 0.5259 - accuracy: 0.7598 - val_loss: 0.4056 - val_accuracy: 0.8516\n",
            "Epoch 22/60\n",
            "16/16 [==============================] - ETA: 0s - loss: 0.4766 - accuracy: 0.7734\n",
            "Epoch 22: val_accuracy did not improve from 0.85156\n",
            "16/16 [==============================] - 10s 619ms/step - loss: 0.4766 - accuracy: 0.7734 - val_loss: 0.3850 - val_accuracy: 0.8203\n",
            "Epoch 23/60\n",
            "16/16 [==============================] - ETA: 0s - loss: 0.4476 - accuracy: 0.8047\n",
            "Epoch 23: val_accuracy did not improve from 0.85156\n",
            "16/16 [==============================] - 10s 619ms/step - loss: 0.4476 - accuracy: 0.8047 - val_loss: 0.3339 - val_accuracy: 0.8496\n",
            "Epoch 23: early stopping\n"
          ]
        }
      ],
      "source": [
        "hs=model.fit_generator(generator=train_data, \n",
        "                       steps_per_epoch=16, \n",
        "                       epochs=60,\n",
        "                       verbose=1,\n",
        "                       validation_data=val_data, \n",
        "                       validation_steps=16 , \n",
        "                       callbacks=cd)\n"
      ]
    },
    {
      "cell_type": "code",
      "execution_count": null,
      "metadata": {
        "colab": {
          "base_uri": "https://localhost:8080/"
        },
        "id": "rl2s6SK50sqq",
        "outputId": "046a05d1-e73e-40fb-c59a-5f11aec4afe4"
      },
      "outputs": [
        {
          "output_type": "execute_result",
          "data": {
            "text/plain": [
              "dict_keys(['loss', 'accuracy', 'val_loss', 'val_accuracy'])"
            ]
          },
          "metadata": {},
          "execution_count": 23
        }
      ],
      "source": [
        "#Model Graphical Interpretation\n",
        "h=hs.history\n",
        "h.keys()\n",
        "\n"
      ]
    },
    {
      "cell_type": "code",
      "execution_count": null,
      "metadata": {
        "colab": {
          "base_uri": "https://localhost:8080/",
          "height": 281
        },
        "id": "5e0Sj2jr1JuN",
        "outputId": "aaad0b72-a316-47bb-a970-671ae467f4d9"
      },
      "outputs": [
        {
          "output_type": "display_data",
          "data": {
            "image/png": "[encoded data removed]",
            "text/plain": [
              "<Figure size 432x288 with 1 Axes>"
            ]
          },
          "metadata": {
            "needs_background": "light"
          }
        }
      ],
      "source": [
        "import matplotlib.pyplot as plt\n",
        "\n",
        "plt.plot(h['accuracy'])\n",
        "plt.plot(h['val_accuracy'], c=\"red\")\n",
        "\n",
        "plt.title(\"acc vs val-acc\")\n",
        "plt.show()"
      ]
    },
    {
      "cell_type": "code",
      "execution_count": null,
      "metadata": {
        "id": "YS17uKgA2A01",
        "colab": {
          "base_uri": "https://localhost:8080/",
          "height": 281
        },
        "outputId": "96eb4187-d590-4f8d-d1c1-bb764c9cb1bf"
      },
      "outputs": [
        {
          "output_type": "display_data",
          "data": {
            "image/png": "[encoded data removed]",
            "text/plain": [
              "<Figure size 432x288 with 1 Axes>"
            ]
          },
          "metadata": {
            "needs_background": "light"
          }
        }
      ],
      "source": [
        "import matplotlib.pyplot as plt\n",
        "\n",
        "plt.plot(h['loss'])\n",
        "plt.plot(h['val_loss'], c=\"red\")\n",
        "\n",
        "plt.title(\"loss vs val-loss\")\n",
        "plt.show()"
      ]
    },
    {
      "cell_type": "code",
      "execution_count": null,
      "metadata": {
        "id": "Lt1X5HUH2PCN"
      },
      "outputs": [],
      "source": [
        "# Model Accuracy from keras.models import load_model\n",
        "from keras.models import load_model\n",
        "\n",
        "model=load_model(\"/content/bestmodel.h5\")"
      ]
    },
    {
      "cell_type": "code",
      "execution_count": null,
      "metadata": {
        "id": "q2nhLqa23Ghd",
        "colab": {
          "base_uri": "https://localhost:8080/"
        },
        "outputId": "de8daa4e-694d-4179-bff8-f4a953a132e9"
      },
      "outputs": [
        {
          "output_type": "stream",
          "name": "stdout",
          "text": [
            "the accuracy of our model is 82.47422575950623 %\n"
          ]
        }
      ],
      "source": [
        "acc= model.evaluate_generator(test_data)[1]\n",
        "\n",
        "print(f\"the accuracy of our model is {acc*100} %\")"
      ]
    },
    {
      "cell_type": "code",
      "execution_count": null,
      "metadata": {
        "id": "hYLvQJCv3xDr"
      },
      "outputs": [],
      "source": [
        "from keras.preprocessing.image import load_img, img_to_array"
      ]
    },
    {
      "cell_type": "code",
      "execution_count": null,
      "metadata": {
        "id": "FXHq9AY5347T",
        "colab": {
          "base_uri": "https://localhost:8080/",
          "height": 287
        },
        "outputId": "00700c4a-17d1-4196-8b6b-bbd077ee73d8"
      },
      "outputs": [
        {
          "output_type": "display_data",
          "data": {
            "image/png": "[encoded data removed]",
            "text/plain": [
              "<Figure size 432x288 with 1 Axes>"
            ]
          },
          "metadata": {
            "needs_background": "light"
          }
        },
        {
          "output_type": "stream",
          "name": "stdout",
          "text": [
            "the MRI is not having a Tumor\n"
          ]
        }
      ],
      "source": [
        "path =\"/content/BrainTumorData/Brain Tumor Data Set/Healthey/Not Cancer  (1477).jpg\"\n",
        "img = load_img(path, target_size= (224,224))\n",
        "input_arr = img_to_array(img)/255\n",
        "\n",
        "plt.imshow(input_arr)\n",
        "plt.show()\n",
        "\n",
        "input_arr.shape\n",
        "\n",
        "input_arr = np.expand_dims(input_arr, axis= 0 )\n",
        "\n",
        "\n",
        "pred = model.predict(input_arr)[0][0]\n",
        "\n",
        "\n",
        "\n",
        "if pred <= 0.5: \n",
        "  \n",
        "  print(\"the MRI is having a Tumor\") \n",
        "else: \n",
        "  \n",
        "  print(\"the MRI is not having a Tumor\")\n"
      ]
    },
    {
      "cell_type": "code",
      "execution_count": null,
      "metadata": {
        "id": "hTdwjwKj5kEy"
      },
      "outputs": [],
      "source": [
        ""
      ]
    }
  ],
  "metadata": {
    "accelerator": "GPU",
    "colab": {
      "collapsed_sections": [],
      "name": "Brain Tumor Detection",
      "provenance": [],
      "include_colab_link": true
    },
    "kernelspec": {
      "display_name": "Python 3",
      "name": "python3"
    },
    "language_info": {
      "name": "python"
    }
  },
  "nbformat": 4,
  "nbformat_minor": 0
}