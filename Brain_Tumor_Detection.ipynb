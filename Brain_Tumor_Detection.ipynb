{
  "cells": [
    {
      "cell_type": "code",
      "execution_count": 1,
      "metadata": {
        "id": "fR3vraRW8NDv"
      },
      "outputs": [],
      "source": [
        "import warnings\n",
        "warnings.filterwarnings('ignore')"
      ]
    },
    {
      "cell_type": "code",
      "execution_count": null,
      "metadata": {
        "id": "_dyeJ6hM-1Aw"
      },
      "outputs": [],
      "source": [
        "# get the data from\n",
        "!wget https://www.dropbox.com/s/9czdg41ndl0lw07/BrainTumorData.zip?dl=0"
      ]
    },
    {
      "cell_type": "code",
      "execution_count": null,
      "metadata": {
        "id": "g09GCd67_YcT"
      },
      "outputs": [],
      "source": [
        "!unzip /content/BrainTumorData.zip?dl=0"
      ]
    },
    {
      "cell_type": "code",
      "execution_count": 4,
      "metadata": {
        "id": "ZiNG0R7T_xhi"
      },
      "outputs": [],
      "source": [
        "import numpy as np\n",
        "import matplotlib.pyplot as plt\n",
        "import os\n",
        "import math\n",
        "import shutil\n",
        "import glob"
      ]
    },
    {
      "cell_type": "code",
      "execution_count": 5,
      "metadata": {
        "id": "H0pw6g5_5uwb",
        "colab": {
          "base_uri": "https://localhost:8080/"
        },
        "outputId": "3a62c993-bf58-4c56-eb1b-102cacc154b9"
      },
      "outputs": [
        {
          "output_type": "stream",
          "name": "stdout",
          "text": [
            "Mounted at /content/drive\n"
          ]
        }
      ],
      "source": [
        "from google.colab import drive\n",
        "drive.mount('/content/drive')"
      ]
    },
    {
      "cell_type": "code",
      "execution_count": 6,
      "metadata": {
        "id": "tokKck2jA4rc",
        "colab": {
          "base_uri": "https://localhost:8080/"
        },
        "outputId": "aa4603a9-192e-4422-819f-5e7dbf96de7a"
      },
      "outputs": [
        {
          "output_type": "execute_result",
          "data": {
            "text/plain": [
              "dict_items([('Brain Tumor', 2513), ('Healthey', 2087)])"
            ]
          },
          "metadata": {},
          "execution_count": 6
        }
      ],
      "source": [
        "ROOT_DIR= \"/content/BrainTumorData/Brain Tumor Data Set\"\n",
        "number_of_images = {}\n",
        "\n",
        "for dir in os.listdir(ROOT_DIR):\n",
        "  number_of_images[dir]=len(os.listdir(os.path.join(ROOT_DIR, dir)))\n",
        "number_of_images.items()"
      ]
    },
    {
      "cell_type": "code",
      "execution_count": 7,
      "metadata": {
        "id": "LuICmVmQJVD0"
      },
      "outputs": [],
      "source": [
        "# Creating Training Folder\n"
      ]
    },
    {
      "cell_type": "code",
      "execution_count": 8,
      "metadata": {
        "id": "_gRiXZowM4XI"
      },
      "outputs": [],
      "source": [
        "def dataFolder(p, split):\n",
        "\n",
        "  if not os.path.exists(\"./\"+p):\n",
        "    os.mkdir(\"./\"+p)\n",
        "\n",
        "    for dir in os.listdir(ROOT_DIR):\n",
        "      os.makedirs(\"./\"+p+\"/\"+dir)\n",
        "      for img in np.random.choice(a=os.listdir(os.path.join(ROOT_DIR, dir)),\n",
        "                                  size=(math.floor(split*number_of_images[dir])-5),\n",
        "                                  replace=False ):\n",
        "        O = os.path.join(ROOT_DIR,dir,img)\n",
        "        D = os.path.join(\"./\"+p,dir)\n",
        "        shutil.copy(O,D)\n",
        "        os.remove(O)\n",
        "  else:\n",
        "    print( f\"{p}Folder exists\")"
      ]
    },
    {
      "cell_type": "code",
      "execution_count": 9,
      "metadata": {
        "id": "0qqLYjuGNUyQ"
      },
      "outputs": [],
      "source": [
        "dataFolder(\"train\", 0.7)"
      ]
    },
    {
      "cell_type": "code",
      "execution_count": 10,
      "metadata": {
        "id": "vlbDPCmDObsP"
      },
      "outputs": [],
      "source": [
        "  dataFolder(\"val\", 0.15)"
      ]
    },
    {
      "cell_type": "code",
      "execution_count": 11,
      "metadata": {
        "id": "jLGhKTZVOpmD"
      },
      "outputs": [],
      "source": [
        "dataFolder(\"test\", 0.15)"
      ]
    },
    {
      "cell_type": "code",
      "execution_count": 12,
      "metadata": {
        "id": "0stVDqyaPBSO",
        "colab": {
          "base_uri": "https://localhost:8080/"
        },
        "outputId": "34788a6b-4219-4161-bacc-233d5c11c2d2"
      },
      "outputs": [
        {
          "output_type": "execute_result",
          "data": {
            "text/plain": [
              "dict_items([('Brain Tumor', 17), ('Healthey', 16)])"
            ]
          },
          "metadata": {},
          "execution_count": 12
        }
      ],
      "source": [
        "number_of_images = {}\n",
        "\n",
        "for dir in os.listdir(ROOT_DIR):\n",
        "  number_of_images[dir]=len(os.listdir(os.path.join(ROOT_DIR, dir)))\n",
        "number_of_images.items()"
      ]
    },
    {
      "cell_type": "code",
      "execution_count": 12,
      "metadata": {
        "id": "bVQGCWzSRJIt"
      },
      "outputs": [],
      "source": [
        ""
      ]
    },
    {
      "cell_type": "markdown",
      "metadata": {
        "id": "xohex_BmRLjb"
      },
      "source": [
        "Model Build\n"
      ]
    },
    {
      "cell_type": "code",
      "execution_count": 13,
      "metadata": {
        "id": "tnsONjFrRPAC"
      },
      "outputs": [],
      "source": [
        "from keras.layers import Conv2D, MaxPool2D, Dropout, Flatten, Dense, BatchNormalization, GlobalAvgPool2D\n",
        "from keras.models import Sequential\n",
        "from keras.preprocessing.image import ImageDataGenerator\n",
        "import keras"
      ]
    },
    {
      "cell_type": "code",
      "execution_count": 14,
      "metadata": {
        "id": "x9D0oqnSSA8_",
        "colab": {
          "base_uri": "https://localhost:8080/"
        },
        "outputId": "5dac2dff-09b7-4724-e51b-c3d8ff54a581"
      },
      "outputs": [
        {
          "output_type": "stream",
          "name": "stdout",
          "text": [
            "Model: \"sequential\"\n",
            "_________________________________________________________________\n",
            " Layer (type)                Output Shape              Param #   \n",
            "=================================================================\n",
            " conv2d (Conv2D)             (None, 222, 222, 16)      448       \n",
            "                                                                 \n",
            " conv2d_1 (Conv2D)           (None, 220, 220, 32)      4640      \n",
            "                                                                 \n",
            " max_pooling2d (MaxPooling2D  (None, 110, 110, 32)     0         \n",
            " )                                                               \n",
            "                                                                 \n",
            " conv2d_2 (Conv2D)           (None, 108, 108, 64)      18496     \n",
            "                                                                 \n",
            " max_pooling2d_1 (MaxPooling  (None, 54, 54, 64)       0         \n",
            " 2D)                                                             \n",
            "                                                                 \n",
            " conv2d_3 (Conv2D)           (None, 52, 52, 128)       73856     \n",
            "                                                                 \n",
            " max_pooling2d_2 (MaxPooling  (None, 26, 26, 128)      0         \n",
            " 2D)                                                             \n",
            "                                                                 \n",
            " conv2d_4 (Conv2D)           (None, 24, 24, 128)       147584    \n",
            "                                                                 \n",
            " max_pooling2d_3 (MaxPooling  (None, 12, 12, 128)      0         \n",
            " 2D)                                                             \n",
            "                                                                 \n",
            " conv2d_5 (Conv2D)           (None, 10, 10, 256)       295168    \n",
            "                                                                 \n",
            " max_pooling2d_4 (MaxPooling  (None, 5, 5, 256)        0         \n",
            " 2D)                                                             \n",
            "                                                                 \n",
            " conv2d_6 (Conv2D)           (None, 3, 3, 256)         590080    \n",
            "                                                                 \n",
            " max_pooling2d_5 (MaxPooling  (None, 1, 1, 256)        0         \n",
            " 2D)                                                             \n",
            "                                                                 \n",
            " dropout (Dropout)           (None, 1, 1, 256)         0         \n",
            "                                                                 \n",
            " flatten (Flatten)           (None, 256)               0         \n",
            "                                                                 \n",
            " dense (Dense)               (None, 64)                16448     \n",
            "                                                                 \n",
            " dropout_1 (Dropout)         (None, 64)                0         \n",
            "                                                                 \n",
            " dense_1 (Dense)             (None, 1)                 65        \n",
            "                                                                 \n",
            "=================================================================\n",
            "Total params: 1,146,785\n",
            "Trainable params: 1,146,785\n",
            "Non-trainable params: 0\n",
            "_________________________________________________________________\n"
          ]
        }
      ],
      "source": [
        "#CNN Model\n",
        "\n",
        "model = Sequential()\n",
        "\n",
        "model.add(Conv2D(filters= 16, kernel_size= (3,3), activation= 'relu', input_shape = (224,224,3)))\n",
        "\n",
        "\n",
        "model.add(Conv2D(filters= 32, kernel_size= (3,3), activation= 'relu'))\n",
        "model.add(MaxPool2D(pool_size=(2,2)))\n",
        "\n",
        "model.add(Conv2D(filters= 64, kernel_size= (3,3), activation= 'relu'))\n",
        "model.add(MaxPool2D(pool_size=(2,2)))\n",
        "                \n",
        "model.add(Conv2D(filters= 128, kernel_size= (3,3), activation= 'relu'))\n",
        "model.add(MaxPool2D(pool_size=(2,2)))\n",
        "\n",
        "model.add(Conv2D(filters= 128, kernel_size= (3,3), activation= 'relu'))\n",
        "model.add(MaxPool2D(pool_size=(2,2)))\n",
        "\n",
        "model.add(Conv2D(filters= 256, kernel_size= (3,3), activation= 'relu'))\n",
        "model.add(MaxPool2D(pool_size=(2,2)))\n",
        "\n",
        "model.add(Conv2D(filters= 256, kernel_size= (3,3), activation= 'relu'))\n",
        "model.add(MaxPool2D(pool_size=(2,2)))\n",
        "\n",
        "\n",
        "\n",
        "model.add(Dropout(rate=0.25))\n",
        "\n",
        "model.add(Flatten())\n",
        "model.add(Dense(units=64, activation=\"relu\"))\n",
        "model.add(Dropout(rate=0.25))\n",
        "model.add(Dense(units=1, activation=\"sigmoid\"))\n",
        "\n",
        "model.summary()\n",
        "                                  \n"
      ]
    },
    {
      "cell_type": "code",
      "execution_count": 15,
      "metadata": {
        "id": "Ea3f8-oiijm6"
      },
      "outputs": [],
      "source": [
        "model.compile(optimizer='adam', loss= keras.losses.binary_crossentropy, metrics=['accuracy'] )"
      ]
    },
    {
      "cell_type": "code",
      "execution_count": 15,
      "metadata": {
        "id": "i6LKigMNjlwJ"
      },
      "outputs": [],
      "source": [
        ""
      ]
    },
    {
      "cell_type": "markdown",
      "metadata": {
        "id": "u9QF-b_Vj878"
      },
      "source": [
        "Preparing data using data generator"
      ]
    },
    {
      "cell_type": "code",
      "execution_count": 16,
      "metadata": {
        "id": "1jFv7elkkDg6"
      },
      "outputs": [],
      "source": [
        "def preprocessingImages(path):\n",
        "\n",
        "  \"\"\"\n",
        "  input:Path\n",
        "  output: Pre processed images\n",
        "\n",
        "  \"\"\"\n",
        "  \n",
        "  image_data = ImageDataGenerator(zoom_range= 0.2, shear_range= 0.2, rescale= 1/255, horizontal_flip= True)\n",
        "  image = image_data.flow_from_directory(directory = path, target_size = (224,224), batch_size = 32, class_mode = 'binary')\n",
        "  \n",
        "  return image"
      ]
    },
    {
      "cell_type": "code",
      "execution_count": 17,
      "metadata": {
        "id": "6hXXnj8-li-y",
        "colab": {
          "base_uri": "https://localhost:8080/"
        },
        "outputId": "ee8c0e08-bb1f-4239-e1e1-55c609c31854"
      },
      "outputs": [
        {
          "output_type": "stream",
          "name": "stdout",
          "text": [
            "Found 3209 images belonging to 2 classes.\n"
          ]
        }
      ],
      "source": [
        "path = \"/content/train\"\n",
        "train_data = preprocessingImages(path)"
      ]
    },
    {
      "cell_type": "code",
      "execution_count": 17,
      "metadata": {
        "id": "zzFBgkKtpM1H"
      },
      "outputs": [],
      "source": [
        ""
      ]
    },
    {
      "cell_type": "code",
      "execution_count": 18,
      "metadata": {
        "id": "LGz1NXH-oVfG"
      },
      "outputs": [],
      "source": [
        "def preprocessingImages2(path):\n",
        "\n",
        "  \"\"\"\n",
        "  input:Path\n",
        "  output: Pre processed images\n",
        "\n",
        "  \"\"\"\n",
        "  \n",
        "  image_data = ImageDataGenerator(rescale= 1/255)\n",
        "  image = image_data.flow_from_directory(directory = path, target_size = (224,224), batch_size = 32, class_mode = 'binary')\n",
        "  \n",
        "  return image"
      ]
    },
    {
      "cell_type": "code",
      "execution_count": 19,
      "metadata": {
        "id": "tPluJ0-RpOhj",
        "colab": {
          "base_uri": "https://localhost:8080/"
        },
        "outputId": "f387b6cb-5df0-4673-ef42-945eb1e0d2fa"
      },
      "outputs": [
        {
          "output_type": "stream",
          "name": "stdout",
          "text": [
            "Found 679 images belonging to 2 classes.\n"
          ]
        }
      ],
      "source": [
        "path = \"/content/test\"\n",
        "test_data = preprocessingImages2(path)"
      ]
    },
    {
      "cell_type": "code",
      "execution_count": 20,
      "metadata": {
        "id": "GexaMkvBpV4r",
        "colab": {
          "base_uri": "https://localhost:8080/"
        },
        "outputId": "7fb4a3eb-ef08-4c8b-b670-7aded58b8e24"
      },
      "outputs": [
        {
          "output_type": "stream",
          "name": "stdout",
          "text": [
            "Found 679 images belonging to 2 classes.\n"
          ]
        }
      ],
      "source": [
        "path = \"/content/val\"\n",
        "val_data = preprocessingImages2(path)"
      ]
    },
    {
      "cell_type": "code",
      "execution_count": 21,
      "metadata": {
        "id": "Xd_7D2OkpcwW"
      },
      "outputs": [],
      "source": [
        "# Early stopping and model check point\n",
        "from keras.callbacks import ModelCheckpoint, EarlyStopping\n",
        "\n",
        "#early stopping\n",
        "\n",
        "es=EarlyStopping(monitor=\"val_accuracy\", min_delta=0.01, patience=7, verbose=1, mode='auto')\n",
        "\n",
        "#model check point\n",
        "mc=ModelCheckpoint(monitor=\"val_accuracy\", filepath=\"./bestmodel.h5\", verbose=1, save_best_only=True, mode='auto')\n",
        "\n",
        "cd=[es,mc]"
      ]
    },
    {
      "cell_type": "markdown",
      "metadata": {
        "id": "dz9LQe-xwchY"
      },
      "source": [
        "Model Training\n"
      ]
    },
    {
      "cell_type": "code",
      "execution_count": 22,
      "metadata": {
        "colab": {
          "base_uri": "https://localhost:8080/"
        },
        "id": "1xrDmQgawedV",
        "outputId": "565c1fba-1bc7-4bd4-d0f5-d1b6dc7762f2"
      },
      "outputs": [
        {
          "output_type": "stream",
          "name": "stdout",
          "text": [
            "Epoch 1/60\n",
            "16/16 [==============================] - ETA: 0s - loss: 0.6984 - accuracy: 0.5332\n",
            "Epoch 1: val_accuracy improved from -inf to 0.55859, saving model to ./bestmodel.h5\n",
            "16/16 [==============================] - 24s 708ms/step - loss: 0.6984 - accuracy: 0.5332 - val_loss: 0.6921 - val_accuracy: 0.5586\n",
            "Epoch 2/60\n",
            "16/16 [==============================] - ETA: 0s - loss: 0.6923 - accuracy: 0.5440\n",
            "Epoch 2: val_accuracy did not improve from 0.55859\n",
            "16/16 [==============================] - 10s 624ms/step - loss: 0.6923 - accuracy: 0.5440 - val_loss: 0.6918 - val_accuracy: 0.5293\n",
            "Epoch 3/60\n",
            "16/16 [==============================] - ETA: 0s - loss: 0.6918 - accuracy: 0.5195\n",
            "Epoch 3: val_accuracy improved from 0.55859 to 0.56641, saving model to ./bestmodel.h5\n",
            "16/16 [==============================] - 10s 625ms/step - loss: 0.6918 - accuracy: 0.5195 - val_loss: 0.6884 - val_accuracy: 0.5664\n",
            "Epoch 4/60\n",
            "16/16 [==============================] - ETA: 0s - loss: 0.6886 - accuracy: 0.5645\n",
            "Epoch 4: val_accuracy did not improve from 0.56641\n",
            "16/16 [==============================] - 10s 615ms/step - loss: 0.6886 - accuracy: 0.5645 - val_loss: 0.6898 - val_accuracy: 0.5312\n",
            "Epoch 5/60\n",
            "16/16 [==============================] - ETA: 0s - loss: 0.6907 - accuracy: 0.5358\n",
            "Epoch 5: val_accuracy improved from 0.56641 to 0.66992, saving model to ./bestmodel.h5\n",
            "16/16 [==============================] - 10s 607ms/step - loss: 0.6907 - accuracy: 0.5358 - val_loss: 0.6795 - val_accuracy: 0.6699\n",
            "Epoch 6/60\n",
            "16/16 [==============================] - ETA: 0s - loss: 0.6750 - accuracy: 0.5971\n",
            "Epoch 6: val_accuracy did not improve from 0.66992\n",
            "16/16 [==============================] - 9s 594ms/step - loss: 0.6750 - accuracy: 0.5971 - val_loss: 0.6768 - val_accuracy: 0.5664\n",
            "Epoch 7/60\n",
            "16/16 [==============================] - ETA: 0s - loss: 0.6507 - accuracy: 0.6309\n",
            "Epoch 7: val_accuracy did not improve from 0.66992\n",
            "16/16 [==============================] - 10s 661ms/step - loss: 0.6507 - accuracy: 0.6309 - val_loss: 0.6244 - val_accuracy: 0.6660\n",
            "Epoch 8/60\n",
            "16/16 [==============================] - ETA: 0s - loss: 0.6273 - accuracy: 0.6602\n",
            "Epoch 8: val_accuracy improved from 0.66992 to 0.71484, saving model to ./bestmodel.h5\n",
            "16/16 [==============================] - 10s 630ms/step - loss: 0.6273 - accuracy: 0.6602 - val_loss: 0.5905 - val_accuracy: 0.7148\n",
            "Epoch 9/60\n",
            "16/16 [==============================] - ETA: 0s - loss: 0.6035 - accuracy: 0.6855\n",
            "Epoch 9: val_accuracy improved from 0.71484 to 0.75391, saving model to ./bestmodel.h5\n",
            "16/16 [==============================] - 10s 633ms/step - loss: 0.6035 - accuracy: 0.6855 - val_loss: 0.5810 - val_accuracy: 0.7539\n",
            "Epoch 10/60\n",
            "16/16 [==============================] - ETA: 0s - loss: 0.5929 - accuracy: 0.6912\n",
            "Epoch 10: val_accuracy did not improve from 0.75391\n",
            "16/16 [==============================] - 10s 600ms/step - loss: 0.5929 - accuracy: 0.6912 - val_loss: 0.5406 - val_accuracy: 0.7441\n",
            "Epoch 11/60\n",
            "16/16 [==============================] - ETA: 0s - loss: 0.6098 - accuracy: 0.6602\n",
            "Epoch 11: val_accuracy did not improve from 0.75391\n",
            "16/16 [==============================] - 10s 615ms/step - loss: 0.6098 - accuracy: 0.6602 - val_loss: 0.6212 - val_accuracy: 0.6562\n",
            "Epoch 12/60\n",
            "16/16 [==============================] - ETA: 0s - loss: 0.5817 - accuracy: 0.7090\n",
            "Epoch 12: val_accuracy improved from 0.75391 to 0.75781, saving model to ./bestmodel.h5\n",
            "16/16 [==============================] - 10s 625ms/step - loss: 0.5817 - accuracy: 0.7090 - val_loss: 0.5140 - val_accuracy: 0.7578\n",
            "Epoch 13/60\n",
            "16/16 [==============================] - ETA: 0s - loss: 0.5497 - accuracy: 0.7129\n",
            "Epoch 13: val_accuracy improved from 0.75781 to 0.78125, saving model to ./bestmodel.h5\n",
            "16/16 [==============================] - 10s 614ms/step - loss: 0.5497 - accuracy: 0.7129 - val_loss: 0.4758 - val_accuracy: 0.7812\n",
            "Epoch 14/60\n",
            "16/16 [==============================] - ETA: 0s - loss: 0.5227 - accuracy: 0.7520\n",
            "Epoch 14: val_accuracy improved from 0.78125 to 0.80859, saving model to ./bestmodel.h5\n",
            "16/16 [==============================] - 10s 614ms/step - loss: 0.5227 - accuracy: 0.7520 - val_loss: 0.4763 - val_accuracy: 0.8086\n",
            "Epoch 15/60\n",
            "16/16 [==============================] - ETA: 0s - loss: 0.4870 - accuracy: 0.7689\n",
            "Epoch 15: val_accuracy improved from 0.80859 to 0.82812, saving model to ./bestmodel.h5\n",
            "16/16 [==============================] - 10s 615ms/step - loss: 0.4870 - accuracy: 0.7689 - val_loss: 0.4157 - val_accuracy: 0.8281\n",
            "Epoch 16/60\n",
            "16/16 [==============================] - ETA: 0s - loss: 0.4986 - accuracy: 0.7485\n",
            "Epoch 16: val_accuracy did not improve from 0.82812\n",
            "16/16 [==============================] - 9s 579ms/step - loss: 0.4986 - accuracy: 0.7485 - val_loss: 0.4353 - val_accuracy: 0.8184\n",
            "Epoch 17/60\n",
            "16/16 [==============================] - ETA: 0s - loss: 0.4757 - accuracy: 0.7791\n",
            "Epoch 17: val_accuracy improved from 0.82812 to 0.83203, saving model to ./bestmodel.h5\n",
            "16/16 [==============================] - 9s 593ms/step - loss: 0.4757 - accuracy: 0.7791 - val_loss: 0.4333 - val_accuracy: 0.8320\n",
            "Epoch 18/60\n",
            "16/16 [==============================] - ETA: 0s - loss: 0.5218 - accuracy: 0.7734\n",
            "Epoch 18: val_accuracy improved from 0.83203 to 0.84766, saving model to ./bestmodel.h5\n",
            "16/16 [==============================] - 10s 636ms/step - loss: 0.5218 - accuracy: 0.7734 - val_loss: 0.4177 - val_accuracy: 0.8477\n",
            "Epoch 19/60\n",
            "16/16 [==============================] - ETA: 0s - loss: 0.4604 - accuracy: 0.8086\n",
            "Epoch 19: val_accuracy did not improve from 0.84766\n",
            "16/16 [==============================] - 10s 633ms/step - loss: 0.4604 - accuracy: 0.8086 - val_loss: 0.4213 - val_accuracy: 0.8145\n",
            "Epoch 20/60\n",
            "16/16 [==============================] - ETA: 0s - loss: 0.4306 - accuracy: 0.7930\n",
            "Epoch 20: val_accuracy did not improve from 0.84766\n",
            "16/16 [==============================] - 10s 625ms/step - loss: 0.4306 - accuracy: 0.7930 - val_loss: 0.4197 - val_accuracy: 0.8203\n",
            "Epoch 21/60\n",
            "16/16 [==============================] - ETA: 0s - loss: 0.4062 - accuracy: 0.8203\n",
            "Epoch 21: val_accuracy did not improve from 0.84766\n",
            "16/16 [==============================] - 10s 629ms/step - loss: 0.4062 - accuracy: 0.8203 - val_loss: 0.3782 - val_accuracy: 0.8184\n",
            "Epoch 22/60\n",
            "16/16 [==============================] - ETA: 0s - loss: 0.4159 - accuracy: 0.8086\n",
            "Epoch 22: val_accuracy did not improve from 0.84766\n",
            "16/16 [==============================] - 10s 627ms/step - loss: 0.4159 - accuracy: 0.8086 - val_loss: 0.4631 - val_accuracy: 0.7891\n",
            "Epoch 23/60\n",
            "16/16 [==============================] - ETA: 0s - loss: 0.4877 - accuracy: 0.7730\n",
            "Epoch 23: val_accuracy did not improve from 0.84766\n",
            "16/16 [==============================] - 9s 593ms/step - loss: 0.4877 - accuracy: 0.7730 - val_loss: 0.4517 - val_accuracy: 0.8047\n",
            "Epoch 24/60\n",
            "16/16 [==============================] - ETA: 0s - loss: 0.4485 - accuracy: 0.8119\n",
            "Epoch 24: val_accuracy improved from 0.84766 to 0.84961, saving model to ./bestmodel.h5\n",
            "16/16 [==============================] - 10s 620ms/step - loss: 0.4485 - accuracy: 0.8119 - val_loss: 0.3565 - val_accuracy: 0.8496\n",
            "Epoch 25/60\n",
            "16/16 [==============================] - ETA: 0s - loss: 0.4006 - accuracy: 0.8340\n",
            "Epoch 25: val_accuracy improved from 0.84961 to 0.85938, saving model to ./bestmodel.h5\n",
            "16/16 [==============================] - 10s 638ms/step - loss: 0.4006 - accuracy: 0.8340 - val_loss: 0.3261 - val_accuracy: 0.8594\n",
            "Epoch 26/60\n",
            "16/16 [==============================] - ETA: 0s - loss: 0.4285 - accuracy: 0.8281\n",
            "Epoch 26: val_accuracy did not improve from 0.85938\n",
            "16/16 [==============================] - 10s 623ms/step - loss: 0.4285 - accuracy: 0.8281 - val_loss: 0.4271 - val_accuracy: 0.8496\n",
            "Epoch 27/60\n",
            "16/16 [==============================] - ETA: 0s - loss: 0.4229 - accuracy: 0.8078\n",
            "Epoch 27: val_accuracy improved from 0.85938 to 0.86719, saving model to ./bestmodel.h5\n",
            "16/16 [==============================] - 10s 640ms/step - loss: 0.4229 - accuracy: 0.8078 - val_loss: 0.2947 - val_accuracy: 0.8672\n",
            "Epoch 28/60\n",
            "16/16 [==============================] - ETA: 0s - loss: 0.3699 - accuracy: 0.8477\n",
            "Epoch 28: val_accuracy improved from 0.86719 to 0.87109, saving model to ./bestmodel.h5\n",
            "16/16 [==============================] - 10s 633ms/step - loss: 0.3699 - accuracy: 0.8477 - val_loss: 0.3334 - val_accuracy: 0.8711\n",
            "Epoch 29/60\n",
            "16/16 [==============================] - ETA: 0s - loss: 0.3952 - accuracy: 0.8200\n",
            "Epoch 29: val_accuracy did not improve from 0.87109\n",
            "16/16 [==============================] - 10s 608ms/step - loss: 0.3952 - accuracy: 0.8200 - val_loss: 0.3540 - val_accuracy: 0.8359\n",
            "Epoch 30/60\n",
            "16/16 [==============================] - ETA: 0s - loss: 0.3937 - accuracy: 0.8344\n",
            "Epoch 30: val_accuracy improved from 0.87109 to 0.87500, saving model to ./bestmodel.h5\n",
            "16/16 [==============================] - 10s 613ms/step - loss: 0.3937 - accuracy: 0.8344 - val_loss: 0.3165 - val_accuracy: 0.8750\n",
            "Epoch 31/60\n",
            "16/16 [==============================] - ETA: 0s - loss: 0.3745 - accuracy: 0.8379\n",
            "Epoch 31: val_accuracy improved from 0.87500 to 0.89258, saving model to ./bestmodel.h5\n",
            "16/16 [==============================] - 10s 639ms/step - loss: 0.3745 - accuracy: 0.8379 - val_loss: 0.3007 - val_accuracy: 0.8926\n",
            "Epoch 32/60\n",
            "16/16 [==============================] - ETA: 0s - loss: 0.3898 - accuracy: 0.8223\n",
            "Epoch 32: val_accuracy did not improve from 0.89258\n",
            "16/16 [==============================] - 10s 631ms/step - loss: 0.3898 - accuracy: 0.8223 - val_loss: 0.3072 - val_accuracy: 0.8633\n",
            "Epoch 33/60\n",
            "16/16 [==============================] - ETA: 0s - loss: 0.3608 - accuracy: 0.8466\n",
            "Epoch 33: val_accuracy improved from 0.89258 to 0.89453, saving model to ./bestmodel.h5\n",
            "16/16 [==============================] - 10s 629ms/step - loss: 0.3608 - accuracy: 0.8466 - val_loss: 0.2638 - val_accuracy: 0.8945\n",
            "Epoch 34/60\n",
            "16/16 [==============================] - ETA: 0s - loss: 0.3025 - accuracy: 0.8711\n",
            "Epoch 34: val_accuracy did not improve from 0.89453\n",
            "16/16 [==============================] - 10s 629ms/step - loss: 0.3025 - accuracy: 0.8711 - val_loss: 0.2601 - val_accuracy: 0.8945\n",
            "Epoch 35/60\n",
            "16/16 [==============================] - ETA: 0s - loss: 0.3004 - accuracy: 0.8750\n",
            "Epoch 35: val_accuracy improved from 0.89453 to 0.90039, saving model to ./bestmodel.h5\n",
            "16/16 [==============================] - 10s 635ms/step - loss: 0.3004 - accuracy: 0.8750 - val_loss: 0.2531 - val_accuracy: 0.9004\n",
            "Epoch 36/60\n",
            "16/16 [==============================] - ETA: 0s - loss: 0.2761 - accuracy: 0.8828\n",
            "Epoch 36: val_accuracy did not improve from 0.90039\n",
            "16/16 [==============================] - 10s 635ms/step - loss: 0.2761 - accuracy: 0.8828 - val_loss: 0.2778 - val_accuracy: 0.8887\n",
            "Epoch 37/60\n",
            "16/16 [==============================] - ETA: 0s - loss: 0.3172 - accuracy: 0.8770\n",
            "Epoch 37: val_accuracy did not improve from 0.90039\n",
            "16/16 [==============================] - 10s 633ms/step - loss: 0.3172 - accuracy: 0.8770 - val_loss: 0.2687 - val_accuracy: 0.8926\n",
            "Epoch 38/60\n",
            "16/16 [==============================] - ETA: 0s - loss: 0.2477 - accuracy: 0.9043\n",
            "Epoch 38: val_accuracy improved from 0.90039 to 0.93164, saving model to ./bestmodel.h5\n",
            "16/16 [==============================] - 10s 644ms/step - loss: 0.2477 - accuracy: 0.9043 - val_loss: 0.2095 - val_accuracy: 0.9316\n",
            "Epoch 39/60\n",
            "16/16 [==============================] - ETA: 0s - loss: 0.2538 - accuracy: 0.9023\n",
            "Epoch 39: val_accuracy did not improve from 0.93164\n",
            "16/16 [==============================] - 10s 641ms/step - loss: 0.2538 - accuracy: 0.9023 - val_loss: 0.2362 - val_accuracy: 0.9180\n",
            "Epoch 40/60\n",
            "16/16 [==============================] - ETA: 0s - loss: 0.2703 - accuracy: 0.9023\n",
            "Epoch 40: val_accuracy improved from 0.93164 to 0.93945, saving model to ./bestmodel.h5\n",
            "16/16 [==============================] - 10s 643ms/step - loss: 0.2703 - accuracy: 0.9023 - val_loss: 0.2141 - val_accuracy: 0.9395\n",
            "Epoch 41/60\n",
            "16/16 [==============================] - ETA: 0s - loss: 0.2779 - accuracy: 0.8965\n",
            "Epoch 41: val_accuracy did not improve from 0.93945\n",
            "16/16 [==============================] - 10s 626ms/step - loss: 0.2779 - accuracy: 0.8965 - val_loss: 0.2083 - val_accuracy: 0.9160\n",
            "Epoch 42/60\n",
            "16/16 [==============================] - ETA: 0s - loss: 0.2011 - accuracy: 0.9141\n",
            "Epoch 42: val_accuracy did not improve from 0.93945\n",
            "16/16 [==============================] - 10s 619ms/step - loss: 0.2011 - accuracy: 0.9141 - val_loss: 0.1942 - val_accuracy: 0.9336\n",
            "Epoch 43/60\n",
            "16/16 [==============================] - ETA: 0s - loss: 0.2648 - accuracy: 0.8945\n",
            "Epoch 43: val_accuracy improved from 0.93945 to 0.94336, saving model to ./bestmodel.h5\n",
            "16/16 [==============================] - 10s 632ms/step - loss: 0.2648 - accuracy: 0.8945 - val_loss: 0.2075 - val_accuracy: 0.9434\n",
            "Epoch 44/60\n",
            "16/16 [==============================] - ETA: 0s - loss: 0.2983 - accuracy: 0.8753\n",
            "Epoch 44: val_accuracy did not improve from 0.94336\n",
            "16/16 [==============================] - 10s 603ms/step - loss: 0.2983 - accuracy: 0.8753 - val_loss: 0.2489 - val_accuracy: 0.9141\n",
            "Epoch 45/60\n",
            "16/16 [==============================] - ETA: 0s - loss: 0.2510 - accuracy: 0.9004\n",
            "Epoch 45: val_accuracy did not improve from 0.94336\n",
            "16/16 [==============================] - 10s 625ms/step - loss: 0.2510 - accuracy: 0.9004 - val_loss: 0.2221 - val_accuracy: 0.9199\n",
            "Epoch 46/60\n",
            "16/16 [==============================] - ETA: 0s - loss: 0.2646 - accuracy: 0.8945\n",
            "Epoch 46: val_accuracy did not improve from 0.94336\n",
            "16/16 [==============================] - 10s 625ms/step - loss: 0.2646 - accuracy: 0.8945 - val_loss: 0.1839 - val_accuracy: 0.9434\n",
            "Epoch 47/60\n",
            "16/16 [==============================] - ETA: 0s - loss: 0.2242 - accuracy: 0.9121\n",
            "Epoch 47: val_accuracy did not improve from 0.94336\n",
            "16/16 [==============================] - 10s 622ms/step - loss: 0.2242 - accuracy: 0.9121 - val_loss: 0.2547 - val_accuracy: 0.9082\n",
            "Epoch 48/60\n",
            "16/16 [==============================] - ETA: 0s - loss: 0.2095 - accuracy: 0.9180\n",
            "Epoch 48: val_accuracy did not improve from 0.94336\n",
            "16/16 [==============================] - 10s 633ms/step - loss: 0.2095 - accuracy: 0.9180 - val_loss: 0.2001 - val_accuracy: 0.9375\n",
            "Epoch 49/60\n",
            "16/16 [==============================] - ETA: 0s - loss: 0.1775 - accuracy: 0.9277\n",
            "Epoch 49: val_accuracy did not improve from 0.94336\n",
            "16/16 [==============================] - 10s 627ms/step - loss: 0.1775 - accuracy: 0.9277 - val_loss: 0.2351 - val_accuracy: 0.9062\n",
            "Epoch 50/60\n",
            "16/16 [==============================] - ETA: 0s - loss: 0.2072 - accuracy: 0.9160\n",
            "Epoch 50: val_accuracy did not improve from 0.94336\n",
            "16/16 [==============================] - 10s 626ms/step - loss: 0.2072 - accuracy: 0.9160 - val_loss: 0.1920 - val_accuracy: 0.9395\n",
            "Epoch 50: early stopping\n"
          ]
        }
      ],
      "source": [
        "hs=model.fit_generator(generator=train_data, \n",
        "                       steps_per_epoch=16, \n",
        "                       epochs=60,\n",
        "                       verbose=1,\n",
        "                       validation_data=val_data, \n",
        "                       validation_steps=16 , \n",
        "                       callbacks=cd)\n"
      ]
    },
    {
      "cell_type": "code",
      "execution_count": 23,
      "metadata": {
        "colab": {
          "base_uri": "https://localhost:8080/"
        },
        "id": "rl2s6SK50sqq",
        "outputId": "4aa81618-0558-4735-896e-46f72750dea2"
      },
      "outputs": [
        {
          "output_type": "execute_result",
          "data": {
            "text/plain": [
              "dict_keys(['loss', 'accuracy', 'val_loss', 'val_accuracy'])"
            ]
          },
          "metadata": {},
          "execution_count": 23
        }
      ],
      "source": [
        "#Model Graphical Interpretation\n",
        "h=hs.history\n",
        "h.keys()\n",
        "\n"
      ]
    },
    {
      "cell_type": "code",
      "execution_count": 24,
      "metadata": {
        "colab": {
          "base_uri": "https://localhost:8080/",
          "height": 281
        },
        "id": "5e0Sj2jr1JuN",
        "outputId": "83de02d9-6e84-48a2-c885-4c369b17d719"
      },
      "outputs": [
        {
          "output_type": "display_data",
          "data": {
            "image/png": "[encoded data removed]",
            "text/plain": [
              "<Figure size 432x288 with 1 Axes>"
            ]
          },
          "metadata": {
            "needs_background": "light"
          }
        }
      ],
      "source": [
        "import matplotlib.pyplot as plt\n",
        "\n",
        "plt.plot(h['accuracy'])\n",
        "plt.plot(h['val_accuracy'], c=\"red\")\n",
        "\n",
        "plt.title(\"acc vs val-acc\")\n",
        "plt.show()"
      ]
    },
    {
      "cell_type": "code",
      "execution_count": 25,
      "metadata": {
        "id": "YS17uKgA2A01",
        "colab": {
          "base_uri": "https://localhost:8080/",
          "height": 281
        },
        "outputId": "8f79f7e3-d09f-451f-f2f1-39820f09d71c"
      },
      "outputs": [
        {
          "output_type": "display_data",
          "data": {
            "image/png": "[encoded data removed]",
            "text/plain": [
              "<Figure size 432x288 with 1 Axes>"
            ]
          },
          "metadata": {
            "needs_background": "light"
          }
        }
      ],
      "source": [
        "import matplotlib.pyplot as plt\n",
        "\n",
        "plt.plot(h['loss'])\n",
        "plt.plot(h['val_loss'], c=\"red\")\n",
        "\n",
        "plt.title(\"loss vs val-loss\")\n",
        "plt.show()"
      ]
    },
    {
      "cell_type": "code",
      "execution_count": 26,
      "metadata": {
        "id": "Lt1X5HUH2PCN"
      },
      "outputs": [],
      "source": [
        "# Model Accuracy from keras.models import load_model\n",
        "from keras.models import load_model\n",
        "\n",
        "model=load_model(\"/content/bestmodel.h5\")"
      ]
    },
    {
      "cell_type": "code",
      "execution_count": 33,
      "metadata": {
        "id": "q2nhLqa23Ghd",
        "colab": {
          "base_uri": "https://localhost:8080/"
        },
        "outputId": "9c0b7db6-3606-4003-dbaf-5e3219b8abe3"
      },
      "outputs": [
        {
          "output_type": "stream",
          "name": "stdout",
          "text": [
            "The Accuracy of our Model is 93.51988434791565 %\n"
          ]
        }
      ],
      "source": [
        "acc= model.evaluate_generator(test_data)[1]\n",
        "\n",
        "print(f\"The Accuracy of our Model is {acc*100} %\")"
      ]
    },
    {
      "cell_type": "code",
      "execution_count": 35,
      "metadata": {
        "id": "hYLvQJCv3xDr"
      },
      "outputs": [],
      "source": [
        "from keras.preprocessing.image import load_img, img_to_array"
      ]
    },
    {
      "cell_type": "code",
      "execution_count": 38,
      "metadata": {
        "id": "FXHq9AY5347T",
        "colab": {
          "base_uri": "https://localhost:8080/",
          "height": 287
        },
        "outputId": "ea5490dd-21df-4285-cd9b-e80ea9afbbe1"
      },
      "outputs": [
        {
          "output_type": "display_data",
          "data": {
            "image/png": "[encoded data removed]",
            "text/plain": [
              "<Figure size 432x288 with 1 Axes>"
            ]
          },
          "metadata": {
            "needs_background": "light"
          }
        },
        {
          "output_type": "stream",
          "name": "stdout",
          "text": [
            "TUMOUR Detected in the MRI\n"
          ]
        }
      ],
      "source": [
        "path =\"/content/BrainTumorData/Brain Tumor Data Set/Brain Tumor/Cancer (1440).jpg\"\n",
        "img = load_img(path, target_size= (224,224))\n",
        "input_arr = img_to_array(img)/255\n",
        "\n",
        "plt.imshow(input_arr)\n",
        "plt.show()\n",
        "\n",
        "input_arr.shape\n",
        "\n",
        "input_arr = np.expand_dims(input_arr, axis= 0 )\n",
        "\n",
        "\n",
        "pred = model.predict(input_arr)[0][0]\n",
        "\n",
        "\n",
        "\n",
        "if pred <= 0.5: \n",
        "  \n",
        "  print(\"TUMOUR Detected in the MRI\") \n",
        "else: \n",
        "  \n",
        "  print(\"NO TUMOUR Detected in the MRI\")\n"
      ]
    },
    {
      "cell_type": "code",
      "execution_count": null,
      "metadata": {
        "id": "hTdwjwKj5kEy"
      },
      "outputs": [],
      "source": [
        ""
      ]
    }
  ],
  "metadata": {
    "accelerator": "GPU",
    "colab": {
      "collapsed_sections": [],
      "name": "Brain Tumor Detection",
      "provenance": []
    },
    "kernelspec": {
      "display_name": "Python 3",
      "name": "python3"
    },
    "language_info": {
      "name": "python"
    }
  },
  "nbformat": 4,
  "nbformat_minor": 0
}